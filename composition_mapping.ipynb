{
 "cells": [
  {
   "cell_type": "code",
   "execution_count": 15,
   "id": "86591b45-4a3f-40f4-a1dc-f63cbe06ec84",
   "metadata": {},
   "outputs": [
    {
     "data": {
      "text/plain": [
       "<Figure size 640x480 with 0 Axes>"
      ]
     },
     "metadata": {},
     "output_type": "display_data"
    }
   ],
   "source": [
    "# -*- coding: utf-8 -*-\n",
    "\"\"\"\n",
    "Version 0.1.0\n",
    "Created on Fri Mar 24 16:47:01 2023\n",
    "@author: felixtheska (https://github.com/FelixTheTBone)\n",
    "\"\"\"\n",
    "\n",
    "import matplotlib.pyplot as plt\n",
    "import numpy as np\n",
    "import pandas as pd\n",
    "import glob\n",
    "from scipy import ndimage\n",
    "from matplotlib_scalebar.scalebar import ScaleBar\n",
    "\n",
    "\n",
    "# Getting map text files in folder of choice\n",
    "Maps = glob.glob('input/*.csv')\n",
    "ColorMaps = pd.read_csv('elements_colormap.csv', delimiter=',')\n",
    "scalebar = ScaleBar(2.47, units=\"um\", length_fraction=0.5, location=\"lower right\")\n",
    "\n",
    "\n",
    "# Reading the data from files\n",
    "def Read_Data(File_Name):\n",
    "    Data = pd.read_csv(File_Name, delimiter='\\t', header=None).fillna(0)\n",
    "    return Data\n",
    "\n",
    "\n",
    "# Generating the maps\n",
    "def Map_Series(Series):\n",
    "    fig, ax = plt.subplots()\n",
    "    plt.rc('font', size=25)\n",
    "\n",
    "    for itr, File in enumerate(Series):\n",
    "        Map = Read_Data(File)\n",
    "        Scale = ColorMaps['Colormap'].loc[ColorMaps['Symbol'] == Series[itr].removeprefix('input/').split(' ')[0]].item()\n",
    "        PlotMap = plt.imshow(Map, vmin=0, vmax=1*(Map.to_numpy().mean()), cmap=Scale, interpolation='gaussian')\n",
    "        \n",
    "        plt.title(File.replace('input/', ''))\n",
    "        plt.axis('off')\n",
    "        \n",
    "        ax.add_artist(scalebar)\n",
    "        plt.colorbar(PlotMap, ticks=[],label='Counts (a.u.)')\n",
    "\n",
    "\n",
    "        plt.savefig(Series[itr].replace('input', 'export').removesuffix('.csv') + '.png')\n",
    "        plt.clf() \n",
    "\n",
    "        \n",
    "# Generating and exporting element maps \n",
    "Map_Series(Maps)"
   ]
  },
  {
   "cell_type": "code",
   "execution_count": null,
   "id": "17b7f6cc-bd9e-41fd-b525-eae02231f748",
   "metadata": {},
   "outputs": [],
   "source": []
  }
 ],
 "metadata": {
  "kernelspec": {
   "display_name": "Python 3 (ipykernel)",
   "language": "python",
   "name": "python3"
  },
  "language_info": {
   "codemirror_mode": {
    "name": "ipython",
    "version": 3
   },
   "file_extension": ".py",
   "mimetype": "text/x-python",
   "name": "python",
   "nbconvert_exporter": "python",
   "pygments_lexer": "ipython3",
   "version": "3.10.10"
  }
 },
 "nbformat": 4,
 "nbformat_minor": 5
}
